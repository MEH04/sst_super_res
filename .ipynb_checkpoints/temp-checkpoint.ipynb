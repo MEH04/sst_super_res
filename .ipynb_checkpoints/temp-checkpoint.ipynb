{
 "cells": [
  {
   "cell_type": "code",
   "execution_count": 1,
   "id": "e63d91c6-affc-425b-babc-6f7791a058b7",
   "metadata": {},
   "outputs": [],
   "source": [
    "import torch\n",
    "from torchvision import transforms\n",
    "from torch.utils.data import Dataset, DataLoader\n",
    "import torch.nn as nn\n",
    "from torch.optim import Adam\n",
    "import numpy as np\n",
    "from sklearn.model_selection import train_test_split\n",
    "import os\n",
    "import xarray as xr\n",
    "import matplotlib.pyplot as plt\n",
    "import copy\n",
    "import random"
   ]
  },
  {
   "cell_type": "code",
   "execution_count": 16,
   "id": "a453ea8b-bbe9-4350-921e-8155017e47ca",
   "metadata": {},
   "outputs": [
    {
     "data": {
      "text/plain": [
       "tensor([[0.4952],\n",
       "        [0.4821],\n",
       "        [0.4922],\n",
       "        [0.4869],\n",
       "        [0.4916],\n",
       "        [0.4962],\n",
       "        [0.4887],\n",
       "        [0.4958]], grad_fn=<SigmoidBackward0>)"
      ]
     },
     "execution_count": 16,
     "metadata": {},
     "output_type": "execute_result"
    }
   ],
   "source": [
    "class Generator(nn.Module):\n",
    "    def __init__(self, input_channels = 2, output_channels = 2): \n",
    "        super(Generator, self).__init__()\n",
    "        self.conv1 = nn.Conv2d(input_channels, 64, kernel_size = 4, stride = 2, padding = 1)\n",
    "        self.conv2 = nn.Conv2d(64, 64, kernel_size = 4, stride = 2, padding = 1)\n",
    "        self.conv3 = nn.Conv2d(64, 128, kernel_size = 4, stride = 2, padding = 1)\n",
    "        self.conv4 = nn.Conv2d(128, 256, kernel_size = 4, stride = 2, padding = 1)\n",
    "        self.dropout = nn.Dropout(0.2)\n",
    "        self.fc_in = nn.Linear(2304, 64)\n",
    "        self.fc_out = nn.Linear(64, 2304)\n",
    "        self.tconv1 = nn.ConvTranspose2d(256, 128, kernel_size = 4, stride = 2, padding = 1)\n",
    "        self.tconv2 = nn.ConvTranspose2d(128, 64, kernel_size = 4, stride = 2, padding = 1)\n",
    "        self.tconv3 = nn.ConvTranspose2d(64, 64, kernel_size = 4, stride = 2, padding = 1)\n",
    "        self.tconv4 = nn.ConvTranspose2d(64, output_channels, kernel_size = 4, stride = 2, padding = 1)\n",
    "        self.relu = nn.ReLU()\n",
    "\n",
    "    def forward(self, x): \n",
    "        batch = x.size(0)\n",
    "        x = self.relu(self.conv1(x))\n",
    "        x = self.relu(self.conv2(x))\n",
    "        x = self.relu(self.conv3(x))\n",
    "        x = self.relu(self.conv4(x))\n",
    "        x = x.view(batch,-1)\n",
    "        x = self.dropout(self.relu(self.fc_in(x)))\n",
    "        x = self.dropout(self.relu(self.fc_out(x)))\n",
    "        x = torch.reshape(x, (batch, 256,3,3))\n",
    "        x = self.relu(self.tconv1(x))\n",
    "        x = self.relu(self.tconv2(x))\n",
    "        x = self.relu(self.tconv3(x))\n",
    "        x = self.relu(self.tconv4(x))\n",
    "        return x\n",
    "\n",
    "class Discriminator(nn.Module):\n",
    "    def __init__(self, input_channels = 2): \n",
    "        super(Discriminator, self).__init__()\n",
    "        self.conv1 = nn.Conv2d(input_channels, 128, kernel_size = 4, stride = 2, padding = 1)\n",
    "        self.conv2 = nn.Conv2d(128, 256, kernel_size = 4, stride = 2, padding = 1)\n",
    "        self.conv3 = nn.Conv2d(256, 512, kernel_size = 4, stride = 1, padding = 'same')\n",
    "        self.fc = nn.Linear(73728, 1)\n",
    "        self.relu = nn.ReLU()\n",
    "        self.sigmoid = nn.Sigmoid()\n",
    "\n",
    "    def forward(self, x): \n",
    "        x = self.relu(self.conv1(x))\n",
    "        x = self.relu(self.conv2(x))\n",
    "        x = self.relu(self.conv3(x)) \n",
    "        x = x.view(x.size(0),-1)\n",
    "        x = self.sigmoid(self.fc(x))\n",
    "        return x"
   ]
  },
  {
   "cell_type": "code",
   "execution_count": null,
   "id": "c3fad6e0-d2cd-4a3b-b832-88ad3854c95f",
   "metadata": {},
   "outputs": [],
   "source": []
  }
 ],
 "metadata": {
  "kernelspec": {
   "display_name": "Python 3 (ipykernel)",
   "language": "python",
   "name": "python3"
  },
  "language_info": {
   "codemirror_mode": {
    "name": "ipython",
    "version": 3
   },
   "file_extension": ".py",
   "mimetype": "text/x-python",
   "name": "python",
   "nbconvert_exporter": "python",
   "pygments_lexer": "ipython3",
   "version": "3.9.12"
  }
 },
 "nbformat": 4,
 "nbformat_minor": 5
}
