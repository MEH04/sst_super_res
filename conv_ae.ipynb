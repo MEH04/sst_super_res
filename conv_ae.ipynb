{
 "cells": [
  {
   "cell_type": "code",
   "execution_count": 29,
   "id": "8af7f422-7af7-40ba-892c-25b32b5a2710",
   "metadata": {},
   "outputs": [],
   "source": [
    "import xarray as xr\n",
    "import numpy as np\n",
    "import os\n",
    "import torch\n",
    "from torch.utils.data import random_split"
   ]
  },
  {
   "cell_type": "code",
   "execution_count": 30,
   "id": "687d3cff-9943-4caa-8c68-9d1ecb894494",
   "metadata": {},
   "outputs": [],
   "source": [
    "data_path = r\"C:\\Users\\matth\\Desktop\\data\"\n",
    "os.chdir(data_path)\n",
    "data = xr.open_dataset('l3_blended_l4_extracts_gR_201701.nc')"
   ]
  },
  {
   "cell_type": "code",
   "execution_count": 31,
   "id": "797b1648-8dec-4f29-ba7b-21163bb47a13",
   "metadata": {},
   "outputs": [
    {
     "ename": "NameError",
     "evalue": "name 'df' is not defined",
     "output_type": "error",
     "traceback": [
      "\u001b[1;31m---------------------------------------------------------------------------\u001b[0m",
      "\u001b[1;31mNameError\u001b[0m                                 Traceback (most recent call last)",
      "Cell \u001b[1;32mIn[31], line 16\u001b[0m\n\u001b[0;32m     14\u001b[0m train_percent, test_percent \u001b[38;5;241m=\u001b[39m \u001b[38;5;241m0.8\u001b[39m, \u001b[38;5;241m0.2\u001b[39m\n\u001b[0;32m     15\u001b[0m gen \u001b[38;5;241m=\u001b[39m torch\u001b[38;5;241m.\u001b[39mGenerator()\u001b[38;5;241m.\u001b[39mmanual_seed(\u001b[38;5;241m100\u001b[39m) \u001b[38;5;66;03m# random generator algorithm\u001b[39;00m\n\u001b[1;32m---> 16\u001b[0m train_dataset, val_dataset, test_dataset \u001b[38;5;241m=\u001b[39m random_split(\u001b[43mdf\u001b[49m[\u001b[38;5;241m0\u001b[39m], (train_percent, test_percent), generator \u001b[38;5;241m=\u001b[39m gen)\n",
      "\u001b[1;31mNameError\u001b[0m: name 'df' is not defined"
     ]
    }
   ],
   "source": [
    "array = np.empty(())\n",
    "\n",
    "sstL4 = data.sstL4.data\n",
    "gRsst = data.gRsst.data\n",
    "\n",
    "tiles = len(sstL4)\n",
    "\n",
    "array = np.empty((tiles, 2, 48, 48))\n",
    "\n",
    "for i in range(tiles): \n",
    "    array[i,0] = sstL4[i]\n",
    "    array[i,1] = gRsst[i]\n",
    "\n",
    "train_percent, test_percent = 0.8, 0.2\n",
    "gen = torch.Generator().manual_seed(100) # random generator algorithm"
   ]
  },
  {
   "cell_type": "code",
   "execution_count": null,
   "id": "7313620f-5c29-4846-b792-92f96264ce29",
   "metadata": {},
   "outputs": [],
   "source": []
  }
 ],
 "metadata": {
  "kernelspec": {
   "display_name": "Python 3 (ipykernel)",
   "language": "python",
   "name": "python3"
  },
  "language_info": {
   "codemirror_mode": {
    "name": "ipython",
    "version": 3
   },
   "file_extension": ".py",
   "mimetype": "text/x-python",
   "name": "python",
   "nbconvert_exporter": "python",
   "pygments_lexer": "ipython3",
   "version": "3.9.19"
  }
 },
 "nbformat": 4,
 "nbformat_minor": 5
}
